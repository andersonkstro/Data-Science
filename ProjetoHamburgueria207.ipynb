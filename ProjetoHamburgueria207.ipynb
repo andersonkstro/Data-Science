{
  "nbformat": 4,
  "nbformat_minor": 0,
  "metadata": {
    "colab": {
      "name": "Untitled0.ipynb",
      "provenance": [],
      "collapsed_sections": [],
      "authorship_tag": "ABX9TyNC6EoVZZzE3SJ8XzN7m1SO",
      "include_colab_link": true
    },
    "kernelspec": {
      "name": "python3",
      "display_name": "Python 3"
    }
  },
  "cells": [
    {
      "cell_type": "markdown",
      "metadata": {
        "id": "view-in-github",
        "colab_type": "text"
      },
      "source": [
        "<a href=\"https://colab.research.google.com/github/andersonkstro/Data-Science/blob/master/ProjetoHamburgueria207.ipynb\" target=\"_parent\"><img src=\"https://colab.research.google.com/assets/colab-badge.svg\" alt=\"Open In Colab\"/></a>"
      ]
    },
    {
      "cell_type": "markdown",
      "metadata": {
        "id": "UjLoK72nJQqt",
        "colab_type": "text"
      },
      "source": [
        "Dataset da Hamburgueria2047 do município de Marabá-PA.\n",
        "\n",
        "Vamos analisar as vendas por dias da semana, meses do ano e suas categorias.\n",
        "\n",
        "---\n",
        "\n"
      ]
    },
    {
      "cell_type": "code",
      "metadata": {
        "id": "l2kbLRfLB6RD",
        "colab_type": "code",
        "colab": {}
      },
      "source": [
        "import pandas as pd\n",
        "import matplotlib.pyplot as plt\n",
        "import numpy as np\n",
        "import seaborn as sns\n",
        "from datetime import datetime, timedelta\n",
        "from datetime import date\n",
        "import datetime as dt\n",
        "\n",
        "sns.set_style()"
      ],
      "execution_count": 0,
      "outputs": []
    },
    {
      "cell_type": "code",
      "metadata": {
        "id": "vuSlrySZeYgG",
        "colab_type": "code",
        "outputId": "450220e0-7449-4f6e-c2f1-edc2195e59fe",
        "colab": {
          "base_uri": "https://localhost:8080/",
          "height": 34
        }
      },
      "source": [
        "from google.colab import drive\n",
        "drive.mount('/content/drive')"
      ],
      "execution_count": 0,
      "outputs": [
        {
          "output_type": "stream",
          "text": [
            "Drive already mounted at /content/drive; to attempt to forcibly remount, call drive.mount(\"/content/drive\", force_remount=True).\n"
          ],
          "name": "stdout"
        }
      ]
    },
    {
      "cell_type": "code",
      "metadata": {
        "id": "0IpOCQBLCCm5",
        "colab_type": "code",
        "colab": {}
      },
      "source": [
        "%matplotlib inline"
      ],
      "execution_count": 0,
      "outputs": []
    },
    {
      "cell_type": "markdown",
      "metadata": {
        "id": "tCl6AbPPECGl",
        "colab_type": "text"
      },
      "source": [
        "# New Section"
      ]
    },
    {
      "cell_type": "markdown",
      "metadata": {
        "id": "iXgnKfhrEDDj",
        "colab_type": "text"
      },
      "source": [
        "# New Section"
      ]
    },
    {
      "cell_type": "code",
      "metadata": {
        "id": "EhSkWuwuCH6v",
        "colab_type": "code",
        "colab": {}
      },
      "source": [
        "# Importando o dataset da Hamburgueria 207\n",
        "\n",
        "df= pd.read_excel('/content/Historico_Itens_Vendidos de 01-01-18 à 31-12-18.xls')"
      ],
      "execution_count": 0,
      "outputs": []
    },
    {
      "cell_type": "code",
      "metadata": {
        "id": "MwDBujxAChuO",
        "colab_type": "code",
        "outputId": "4b158d87-fa5a-4fd8-f262-f313631147fb",
        "colab": {
          "base_uri": "https://localhost:8080/",
          "height": 323
        }
      },
      "source": [
        "df.head()"
      ],
      "execution_count": 4,
      "outputs": [
        {
          "output_type": "execute_result",
          "data": {
            "text/html": [
              "<div>\n",
              "<style scoped>\n",
              "    .dataframe tbody tr th:only-of-type {\n",
              "        vertical-align: middle;\n",
              "    }\n",
              "\n",
              "    .dataframe tbody tr th {\n",
              "        vertical-align: top;\n",
              "    }\n",
              "\n",
              "    .dataframe thead th {\n",
              "        text-align: right;\n",
              "    }\n",
              "</style>\n",
              "<table border=\"1\" class=\"dataframe\">\n",
              "  <thead>\n",
              "    <tr style=\"text-align: right;\">\n",
              "      <th></th>\n",
              "      <th>Data/Hora Item</th>\n",
              "      <th>Qtd.</th>\n",
              "      <th>Valor Un. Item</th>\n",
              "      <th>Valor. Tot. Item</th>\n",
              "      <th>Tipo de Item</th>\n",
              "      <th>Nome Prod.</th>\n",
              "      <th>Tipo Prod.</th>\n",
              "      <th>Cat. Prod.</th>\n",
              "      <th>Valor Prod.</th>\n",
              "      <th>Cod. Ped.</th>\n",
              "      <th>Núm. Mesa/Com.</th>\n",
              "      <th>Data Ab. Ped.</th>\n",
              "      <th>Data Fec. Ped.</th>\n",
              "      <th>Tipo Ped.</th>\n",
              "      <th>Stat. Ped.</th>\n",
              "    </tr>\n",
              "  </thead>\n",
              "  <tbody>\n",
              "    <tr>\n",
              "      <th>0</th>\n",
              "      <td>2018-03-05 19:03:29.296</td>\n",
              "      <td>1.0</td>\n",
              "      <td>17.0</td>\n",
              "      <td>17.0</td>\n",
              "      <td>Produto</td>\n",
              "      <td>207 +BACON</td>\n",
              "      <td>Produto</td>\n",
              "      <td>Hambúrgueres</td>\n",
              "      <td>17.0</td>\n",
              "      <td>6187.0</td>\n",
              "      <td>NaN</td>\n",
              "      <td>2018-03-05 19:02:22.138</td>\n",
              "      <td>2018-03-05 19:58:54.006</td>\n",
              "      <td>Delivery</td>\n",
              "      <td>Finalizado Pago</td>\n",
              "    </tr>\n",
              "    <tr>\n",
              "      <th>1</th>\n",
              "      <td>2018-03-05 19:06:18.572</td>\n",
              "      <td>1.0</td>\n",
              "      <td>22.0</td>\n",
              "      <td>22.0</td>\n",
              "      <td>Produto</td>\n",
              "      <td>207 PRIME</td>\n",
              "      <td>Produto</td>\n",
              "      <td>Hambúrgueres</td>\n",
              "      <td>22.0</td>\n",
              "      <td>6188.0</td>\n",
              "      <td>NaN</td>\n",
              "      <td>2018-03-05 19:06:00.273</td>\n",
              "      <td>2018-03-05 19:59:16.501</td>\n",
              "      <td>Delivery</td>\n",
              "      <td>Finalizado Pago</td>\n",
              "    </tr>\n",
              "    <tr>\n",
              "      <th>2</th>\n",
              "      <td>2018-03-05 19:06:24.578</td>\n",
              "      <td>1.0</td>\n",
              "      <td>3.0</td>\n",
              "      <td>3.0</td>\n",
              "      <td>Produto</td>\n",
              "      <td>COCA COLA LATA</td>\n",
              "      <td>Produto</td>\n",
              "      <td>Refrigerantes</td>\n",
              "      <td>4.0</td>\n",
              "      <td>6188.0</td>\n",
              "      <td>NaN</td>\n",
              "      <td>2018-03-05 19:06:00.273</td>\n",
              "      <td>2018-03-05 19:59:16.501</td>\n",
              "      <td>Delivery</td>\n",
              "      <td>Finalizado Pago</td>\n",
              "    </tr>\n",
              "    <tr>\n",
              "      <th>3</th>\n",
              "      <td>2018-03-05 19:10:04.523</td>\n",
              "      <td>1.0</td>\n",
              "      <td>15.0</td>\n",
              "      <td>15.0</td>\n",
              "      <td>Produto</td>\n",
              "      <td>207 CLÁSSICO</td>\n",
              "      <td>Produto</td>\n",
              "      <td>Hambúrgueres</td>\n",
              "      <td>15.0</td>\n",
              "      <td>6189.0</td>\n",
              "      <td>NaN</td>\n",
              "      <td>2018-03-05 19:09:11.997</td>\n",
              "      <td>2018-03-05 19:58:35.722</td>\n",
              "      <td>Delivery</td>\n",
              "      <td>Finalizado Pago</td>\n",
              "    </tr>\n",
              "    <tr>\n",
              "      <th>4</th>\n",
              "      <td>2018-03-05 19:10:04.523</td>\n",
              "      <td>1.0</td>\n",
              "      <td>1.5</td>\n",
              "      <td>1.5</td>\n",
              "      <td>Complemento</td>\n",
              "      <td>QUEIJO ADICIONAL</td>\n",
              "      <td>Complemento</td>\n",
              "      <td>Complemento</td>\n",
              "      <td>1.5</td>\n",
              "      <td>6189.0</td>\n",
              "      <td>NaN</td>\n",
              "      <td>2018-03-05 19:09:11.997</td>\n",
              "      <td>2018-03-05 19:58:35.722</td>\n",
              "      <td>Delivery</td>\n",
              "      <td>Finalizado Pago</td>\n",
              "    </tr>\n",
              "  </tbody>\n",
              "</table>\n",
              "</div>"
            ],
            "text/plain": [
              "           Data/Hora Item  Qtd.  ...     Tipo Ped.        Stat. Ped.\n",
              "0 2018-03-05 19:03:29.296   1.0  ...  Delivery      Finalizado Pago \n",
              "1 2018-03-05 19:06:18.572   1.0  ...  Delivery      Finalizado Pago \n",
              "2 2018-03-05 19:06:24.578   1.0  ...  Delivery      Finalizado Pago \n",
              "3 2018-03-05 19:10:04.523   1.0  ...  Delivery      Finalizado Pago \n",
              "4 2018-03-05 19:10:04.523   1.0  ...  Delivery      Finalizado Pago \n",
              "\n",
              "[5 rows x 15 columns]"
            ]
          },
          "metadata": {
            "tags": []
          },
          "execution_count": 4
        }
      ]
    },
    {
      "cell_type": "code",
      "metadata": {
        "id": "lBGYpLNoEkG8",
        "colab_type": "code",
        "outputId": "7d0a9b58-725e-4492-e345-9765a79f1efb",
        "colab": {
          "base_uri": "https://localhost:8080/",
          "height": 357
        }
      },
      "source": [
        "df.info()"
      ],
      "execution_count": 7,
      "outputs": [
        {
          "output_type": "stream",
          "text": [
            "<class 'pandas.core.frame.DataFrame'>\n",
            "RangeIndex: 10533 entries, 0 to 10532\n",
            "Data columns (total 15 columns):\n",
            "Data/Hora Item      10532 non-null datetime64[ns]\n",
            "Qtd.                10532 non-null float64\n",
            "Valor Un. Item      10532 non-null float64\n",
            "Valor. Tot. Item    10532 non-null float64\n",
            "Tipo de Item        10532 non-null object\n",
            "Nome Prod.          10532 non-null object\n",
            "Tipo Prod.          10532 non-null object\n",
            "Cat. Prod.          10532 non-null object\n",
            "Valor Prod.         10532 non-null float64\n",
            "Cod. Ped.           10532 non-null float64\n",
            "Núm. Mesa/Com.      2267 non-null float64\n",
            "Data Ab. Ped.       10532 non-null datetime64[ns]\n",
            "Data Fec. Ped.      10532 non-null datetime64[ns]\n",
            "Tipo Ped.           10532 non-null object\n",
            "Stat. Ped.          10532 non-null object\n",
            "dtypes: datetime64[ns](3), float64(6), object(6)\n",
            "memory usage: 1.2+ MB\n"
          ],
          "name": "stdout"
        }
      ]
    },
    {
      "cell_type": "markdown",
      "metadata": {
        "id": "lcaBx0X6K-Vv",
        "colab_type": "text"
      },
      "source": [
        "**Tamanho do Dataset.**\n",
        "\n",
        "---\n",
        "\n",
        "\n",
        "\n",
        "---\n",
        "\n"
      ]
    },
    {
      "cell_type": "code",
      "metadata": {
        "id": "10djxKL-EnEQ",
        "colab_type": "code",
        "outputId": "ffda9929-11a9-47a5-fd6b-f81638fa7c9d",
        "colab": {
          "base_uri": "https://localhost:8080/",
          "height": 34
        }
      },
      "source": [
        "df.shape"
      ],
      "execution_count": 8,
      "outputs": [
        {
          "output_type": "execute_result",
          "data": {
            "text/plain": [
              "(10533, 15)"
            ]
          },
          "metadata": {
            "tags": []
          },
          "execution_count": 8
        }
      ]
    },
    {
      "cell_type": "markdown",
      "metadata": {
        "id": "9SCpci-RLFhM",
        "colab_type": "text"
      },
      "source": [
        "**Verificando os valores missings(nulos/NaN).**\n",
        "\n",
        "---\n",
        "\n",
        "\n",
        "\n",
        "---\n",
        "\n"
      ]
    },
    {
      "cell_type": "code",
      "metadata": {
        "id": "E86mdgq3EsUi",
        "colab_type": "code",
        "outputId": "48463ddc-2638-43ab-e685-c7036f826f3b",
        "colab": {
          "base_uri": "https://localhost:8080/",
          "height": 289
        }
      },
      "source": [
        "df.isnull().sum()"
      ],
      "execution_count": 9,
      "outputs": [
        {
          "output_type": "execute_result",
          "data": {
            "text/plain": [
              "Data/Hora Item         1\n",
              "Qtd.                   1\n",
              "Valor Un. Item         1\n",
              "Valor. Tot. Item       1\n",
              "Tipo de Item           1\n",
              "Nome Prod.             1\n",
              "Tipo Prod.             1\n",
              "Cat. Prod.             1\n",
              "Valor Prod.            1\n",
              "Cod. Ped.              1\n",
              "Núm. Mesa/Com.      8266\n",
              "Data Ab. Ped.          1\n",
              "Data Fec. Ped.         1\n",
              "Tipo Ped.              1\n",
              "Stat. Ped.             1\n",
              "dtype: int64"
            ]
          },
          "metadata": {
            "tags": []
          },
          "execution_count": 9
        }
      ]
    },
    {
      "cell_type": "markdown",
      "metadata": {
        "id": "C0pv5mckLPkJ",
        "colab_type": "text"
      },
      "source": [
        "** % de Colunas nulas.**\n",
        "\n",
        "---\n",
        "\n",
        "\n",
        "\n",
        "---\n",
        "\n"
      ]
    },
    {
      "cell_type": "code",
      "metadata": {
        "id": "WAut8o6p9EfN",
        "colab_type": "code",
        "outputId": "83807ec5-01ae-40f3-b6ee-68bf4881f8a4",
        "colab": {
          "base_uri": "https://localhost:8080/",
          "height": 289
        }
      },
      "source": [
        "df.isnull().sum() / df.shape[0]"
      ],
      "execution_count": 10,
      "outputs": [
        {
          "output_type": "execute_result",
          "data": {
            "text/plain": [
              "Data/Hora Item      0.000095\n",
              "Qtd.                0.000095\n",
              "Valor Un. Item      0.000095\n",
              "Valor. Tot. Item    0.000095\n",
              "Tipo de Item        0.000095\n",
              "Nome Prod.          0.000095\n",
              "Tipo Prod.          0.000095\n",
              "Cat. Prod.          0.000095\n",
              "Valor Prod.         0.000095\n",
              "Cod. Ped.           0.000095\n",
              "Núm. Mesa/Com.      0.784772\n",
              "Data Ab. Ped.       0.000095\n",
              "Data Fec. Ped.      0.000095\n",
              "Tipo Ped.           0.000095\n",
              "Stat. Ped.          0.000095\n",
              "dtype: float64"
            ]
          },
          "metadata": {
            "tags": []
          },
          "execution_count": 10
        }
      ]
    },
    {
      "cell_type": "markdown",
      "metadata": {
        "id": "TnYZwuizLngB",
        "colab_type": "text"
      },
      "source": [
        "**As medidas de tendências do Dataset. **\n",
        "\n",
        "---\n",
        "\n",
        "\n",
        "\n",
        "---\n",
        "\n"
      ]
    },
    {
      "cell_type": "code",
      "metadata": {
        "id": "VnuKA1UbROiz",
        "colab_type": "code",
        "outputId": "5804bf1d-800a-42b1-d040-d4f5fe64ec77",
        "colab": {
          "base_uri": "https://localhost:8080/",
          "height": 297
        }
      },
      "source": [
        "df.describe()"
      ],
      "execution_count": 13,
      "outputs": [
        {
          "output_type": "execute_result",
          "data": {
            "text/html": [
              "<div>\n",
              "<style scoped>\n",
              "    .dataframe tbody tr th:only-of-type {\n",
              "        vertical-align: middle;\n",
              "    }\n",
              "\n",
              "    .dataframe tbody tr th {\n",
              "        vertical-align: top;\n",
              "    }\n",
              "\n",
              "    .dataframe thead th {\n",
              "        text-align: right;\n",
              "    }\n",
              "</style>\n",
              "<table border=\"1\" class=\"dataframe\">\n",
              "  <thead>\n",
              "    <tr style=\"text-align: right;\">\n",
              "      <th></th>\n",
              "      <th>Qtd.</th>\n",
              "      <th>Valor Un. Item</th>\n",
              "      <th>Valor. Tot. Item</th>\n",
              "      <th>Valor Prod.</th>\n",
              "      <th>Cod. Ped.</th>\n",
              "      <th>Núm. Mesa/Com.</th>\n",
              "    </tr>\n",
              "  </thead>\n",
              "  <tbody>\n",
              "    <tr>\n",
              "      <th>count</th>\n",
              "      <td>10532.000000</td>\n",
              "      <td>10532.000000</td>\n",
              "      <td>10532.000000</td>\n",
              "      <td>10532.000000</td>\n",
              "      <td>10532.000000</td>\n",
              "      <td>2267.000000</td>\n",
              "    </tr>\n",
              "    <tr>\n",
              "      <th>mean</th>\n",
              "      <td>1.090011</td>\n",
              "      <td>13.239271</td>\n",
              "      <td>14.525826</td>\n",
              "      <td>13.475978</td>\n",
              "      <td>8922.573111</td>\n",
              "      <td>7.341420</td>\n",
              "    </tr>\n",
              "    <tr>\n",
              "      <th>std</th>\n",
              "      <td>0.360771</td>\n",
              "      <td>7.106302</td>\n",
              "      <td>9.562887</td>\n",
              "      <td>6.910087</td>\n",
              "      <td>1503.848371</td>\n",
              "      <td>18.970337</td>\n",
              "    </tr>\n",
              "    <tr>\n",
              "      <th>min</th>\n",
              "      <td>1.000000</td>\n",
              "      <td>1.000000</td>\n",
              "      <td>1.000000</td>\n",
              "      <td>1.000000</td>\n",
              "      <td>6187.000000</td>\n",
              "      <td>1.000000</td>\n",
              "    </tr>\n",
              "    <tr>\n",
              "      <th>25%</th>\n",
              "      <td>1.000000</td>\n",
              "      <td>5.000000</td>\n",
              "      <td>5.500000</td>\n",
              "      <td>6.000000</td>\n",
              "      <td>7636.000000</td>\n",
              "      <td>1.000000</td>\n",
              "    </tr>\n",
              "    <tr>\n",
              "      <th>50%</th>\n",
              "      <td>1.000000</td>\n",
              "      <td>15.000000</td>\n",
              "      <td>15.000000</td>\n",
              "      <td>16.000000</td>\n",
              "      <td>8943.500000</td>\n",
              "      <td>2.000000</td>\n",
              "    </tr>\n",
              "    <tr>\n",
              "      <th>75%</th>\n",
              "      <td>1.000000</td>\n",
              "      <td>20.000000</td>\n",
              "      <td>20.000000</td>\n",
              "      <td>20.000000</td>\n",
              "      <td>10287.250000</td>\n",
              "      <td>7.000000</td>\n",
              "    </tr>\n",
              "    <tr>\n",
              "      <th>max</th>\n",
              "      <td>9.000000</td>\n",
              "      <td>30.000000</td>\n",
              "      <td>100.000000</td>\n",
              "      <td>22.000000</td>\n",
              "      <td>11369.000000</td>\n",
              "      <td>102.000000</td>\n",
              "    </tr>\n",
              "  </tbody>\n",
              "</table>\n",
              "</div>"
            ],
            "text/plain": [
              "               Qtd.  Valor Un. Item  ...     Cod. Ped.  Núm. Mesa/Com.\n",
              "count  10532.000000    10532.000000  ...  10532.000000     2267.000000\n",
              "mean       1.090011       13.239271  ...   8922.573111        7.341420\n",
              "std        0.360771        7.106302  ...   1503.848371       18.970337\n",
              "min        1.000000        1.000000  ...   6187.000000        1.000000\n",
              "25%        1.000000        5.000000  ...   7636.000000        1.000000\n",
              "50%        1.000000       15.000000  ...   8943.500000        2.000000\n",
              "75%        1.000000       20.000000  ...  10287.250000        7.000000\n",
              "max        9.000000       30.000000  ...  11369.000000      102.000000\n",
              "\n",
              "[8 rows x 6 columns]"
            ]
          },
          "metadata": {
            "tags": []
          },
          "execution_count": 13
        }
      ]
    },
    {
      "cell_type": "markdown",
      "metadata": {
        "id": "f_M9V2hbMN3D",
        "colab_type": "text"
      },
      "source": [
        "**Vamos agora fazer algumas alterações no Dataset para extrair alguns insights. **\n",
        "\n",
        "---\n",
        "\n",
        "\n",
        "\n",
        "---\n",
        "\n",
        "\n",
        "\n",
        "---\n",
        "\n"
      ]
    },
    {
      "cell_type": "markdown",
      "metadata": {
        "id": "lAEomBIdM_J3",
        "colab_type": "text"
      },
      "source": [
        "**Removendo as colunas com valores missing.**"
      ]
    },
    {
      "cell_type": "code",
      "metadata": {
        "id": "SwGB43F5SAc1",
        "colab_type": "code",
        "colab": {}
      },
      "source": [
        "\n",
        "df.drop([\"Cod. Ped.\"], axis=1, inplace=True)\n",
        "df.drop([\"Núm. Mesa/Com.\"], axis=1, inplace=True)"
      ],
      "execution_count": 0,
      "outputs": []
    },
    {
      "cell_type": "markdown",
      "metadata": {
        "id": "_0G90giXMlKH",
        "colab_type": "text"
      },
      "source": [
        "**Verificando as colunas do nosso Dataset. **\n",
        "\n",
        "---\n",
        "\n",
        "\n",
        "\n",
        "---\n",
        "\n",
        "\n",
        "\n",
        "---\n",
        "\n"
      ]
    },
    {
      "cell_type": "code",
      "metadata": {
        "id": "ndGwJM7wTBoY",
        "colab_type": "code",
        "outputId": "4caadc80-0f50-4f20-daea-14009697d1c0",
        "colab": {
          "base_uri": "https://localhost:8080/",
          "height": 85
        }
      },
      "source": [
        "df.columns"
      ],
      "execution_count": 16,
      "outputs": [
        {
          "output_type": "execute_result",
          "data": {
            "text/plain": [
              "Index(['Data/Hora Item', 'Qtd.', 'Valor Un. Item', 'Valor. Tot. Item',\n",
              "       'Tipo de Item', 'Nome Prod.', 'Tipo Prod.', 'Cat. Prod.', 'Valor Prod.',\n",
              "       'Data Ab. Ped.', 'Data Fec. Ped.', 'Tipo Ped.', 'Stat. Ped.'],\n",
              "      dtype='object')"
            ]
          },
          "metadata": {
            "tags": []
          },
          "execution_count": 16
        }
      ]
    },
    {
      "cell_type": "markdown",
      "metadata": {
        "id": "G5VYjBGoMrf8",
        "colab_type": "text"
      },
      "source": [
        "**Renomeando as mesmas.**\n",
        "\n",
        "---\n",
        "\n",
        "\n",
        "\n",
        "---\n",
        "\n",
        "\n",
        "\n",
        "---\n",
        "\n"
      ]
    },
    {
      "cell_type": "code",
      "metadata": {
        "id": "KE7qAk1DTRmD",
        "colab_type": "code",
        "colab": {}
      },
      "source": [
        "colunaNova = ['Data', 'Qtd', 'ValorUnidade', 'TotalUnidade',\n",
        "       'TipoItem', 'Produto', 'TipoProduto', 'Categoria', 'ValorProduto',\n",
        "       'HoraAbertPed', 'HoraFechPed', 'TipoPedido', 'StatuSPedido']\n",
        "df.columns = colunaNova"
      ],
      "execution_count": 0,
      "outputs": []
    },
    {
      "cell_type": "markdown",
      "metadata": {
        "id": "4OfQHT0yMyLe",
        "colab_type": "text"
      },
      "source": [
        "**Verificando as colunas novamente com os novos nomes.**\n",
        "\n",
        "---\n",
        "\n",
        "\n",
        "\n",
        "---\n",
        "\n",
        "\n",
        "\n",
        "---\n",
        "\n"
      ]
    },
    {
      "cell_type": "code",
      "metadata": {
        "id": "1gtn7X6yUIoU",
        "colab_type": "code",
        "outputId": "0c55eff5-eb07-48a2-dd78-f79de1bb05c5",
        "colab": {
          "base_uri": "https://localhost:8080/",
          "height": 85
        }
      },
      "source": [
        "df.columns"
      ],
      "execution_count": 18,
      "outputs": [
        {
          "output_type": "execute_result",
          "data": {
            "text/plain": [
              "Index(['Data', 'Qtd', 'ValorUnidade', 'TotalUnidade', 'TipoItem', 'Produto',\n",
              "       'TipoProduto', 'Categoria', 'ValorProduto', 'HoraAbertPed',\n",
              "       'HoraFechPed', 'TipoPedido', 'StatuSPedido'],\n",
              "      dtype='object')"
            ]
          },
          "metadata": {
            "tags": []
          },
          "execution_count": 18
        }
      ]
    },
    {
      "cell_type": "markdown",
      "metadata": {
        "id": "CCXDf5RBNSJ1",
        "colab_type": "text"
      },
      "source": [
        "**Removendo a coluna que possui os mesmos dados da coluna TipoPedido.**\n",
        "**E removendo a coluna status Pedidos.**\n",
        "\n",
        "---\n",
        "\n",
        "\n",
        "\n",
        "---\n",
        "\n"
      ]
    },
    {
      "cell_type": "code",
      "metadata": {
        "id": "x5nJqRFdUMez",
        "colab_type": "code",
        "colab": {}
      },
      "source": [
        "df.drop([\"TipoItem\"], axis=1, inplace=True)\n",
        "df.drop([\"StatuSPedido\"], axis=1, inplace=True)"
      ],
      "execution_count": 0,
      "outputs": []
    },
    {
      "cell_type": "markdown",
      "metadata": {
        "id": "swvdXtruNtR7",
        "colab_type": "text"
      },
      "source": [
        "**Vejamos agora as últimas linhas do Dataset. **\n",
        "\n",
        "---\n",
        "\n",
        "\n",
        "\n",
        "---\n",
        "\n"
      ]
    },
    {
      "cell_type": "code",
      "metadata": {
        "id": "raQi62yoViga",
        "colab_type": "code",
        "outputId": "25d202e3-7343-49cf-a58e-e391122ef349",
        "colab": {
          "base_uri": "https://localhost:8080/",
          "height": 272
        }
      },
      "source": [
        "df.tail()"
      ],
      "execution_count": 20,
      "outputs": [
        {
          "output_type": "execute_result",
          "data": {
            "text/html": [
              "<div>\n",
              "<style scoped>\n",
              "    .dataframe tbody tr th:only-of-type {\n",
              "        vertical-align: middle;\n",
              "    }\n",
              "\n",
              "    .dataframe tbody tr th {\n",
              "        vertical-align: top;\n",
              "    }\n",
              "\n",
              "    .dataframe thead th {\n",
              "        text-align: right;\n",
              "    }\n",
              "</style>\n",
              "<table border=\"1\" class=\"dataframe\">\n",
              "  <thead>\n",
              "    <tr style=\"text-align: right;\">\n",
              "      <th></th>\n",
              "      <th>Data</th>\n",
              "      <th>Qtd</th>\n",
              "      <th>ValorUnidade</th>\n",
              "      <th>TotalUnidade</th>\n",
              "      <th>Produto</th>\n",
              "      <th>TipoProduto</th>\n",
              "      <th>Categoria</th>\n",
              "      <th>ValorProduto</th>\n",
              "      <th>HoraAbertPed</th>\n",
              "      <th>HoraFechPed</th>\n",
              "      <th>TipoPedido</th>\n",
              "    </tr>\n",
              "  </thead>\n",
              "  <tbody>\n",
              "    <tr>\n",
              "      <th>10528</th>\n",
              "      <td>2018-12-30 22:37:39.490</td>\n",
              "      <td>1.0</td>\n",
              "      <td>5.0</td>\n",
              "      <td>5.0</td>\n",
              "      <td>* Excluído * SUCO</td>\n",
              "      <td>Produto</td>\n",
              "      <td>Sucos</td>\n",
              "      <td>5.0</td>\n",
              "      <td>2018-12-30 22:34:25.351</td>\n",
              "      <td>2018-12-30 23:12:11.181</td>\n",
              "      <td>Mesa/Comanda</td>\n",
              "    </tr>\n",
              "    <tr>\n",
              "      <th>10529</th>\n",
              "      <td>2018-12-30 22:41:57.277</td>\n",
              "      <td>1.0</td>\n",
              "      <td>2.5</td>\n",
              "      <td>2.5</td>\n",
              "      <td>AGUA MINERAL 500ML</td>\n",
              "      <td>Produto</td>\n",
              "      <td>Refrigerantes</td>\n",
              "      <td>2.5</td>\n",
              "      <td>2018-12-30 22:34:25.351</td>\n",
              "      <td>2018-12-30 23:12:11.181</td>\n",
              "      <td>Mesa/Comanda</td>\n",
              "    </tr>\n",
              "    <tr>\n",
              "      <th>10530</th>\n",
              "      <td>2018-12-30 22:41:59.290</td>\n",
              "      <td>1.0</td>\n",
              "      <td>2.5</td>\n",
              "      <td>2.5</td>\n",
              "      <td>AGUA MINERAL 500ML</td>\n",
              "      <td>Produto</td>\n",
              "      <td>Refrigerantes</td>\n",
              "      <td>2.5</td>\n",
              "      <td>2018-12-30 22:34:25.351</td>\n",
              "      <td>2018-12-30 23:12:11.181</td>\n",
              "      <td>Mesa/Comanda</td>\n",
              "    </tr>\n",
              "    <tr>\n",
              "      <th>10531</th>\n",
              "      <td>2018-12-30 22:47:23.911</td>\n",
              "      <td>1.0</td>\n",
              "      <td>6.5</td>\n",
              "      <td>6.5</td>\n",
              "      <td>COCA COLA 1 LT</td>\n",
              "      <td>Produto</td>\n",
              "      <td>Refrigerantes</td>\n",
              "      <td>6.5</td>\n",
              "      <td>2018-12-30 22:30:08.793</td>\n",
              "      <td>2018-12-30 23:01:08.671</td>\n",
              "      <td>Mesa/Comanda</td>\n",
              "    </tr>\n",
              "    <tr>\n",
              "      <th>10532</th>\n",
              "      <td>NaT</td>\n",
              "      <td>NaN</td>\n",
              "      <td>NaN</td>\n",
              "      <td>NaN</td>\n",
              "      <td>NaN</td>\n",
              "      <td>NaN</td>\n",
              "      <td>NaN</td>\n",
              "      <td>NaN</td>\n",
              "      <td>NaT</td>\n",
              "      <td>NaT</td>\n",
              "      <td>NaN</td>\n",
              "    </tr>\n",
              "  </tbody>\n",
              "</table>\n",
              "</div>"
            ],
            "text/plain": [
              "                         Data  Qtd  ...             HoraFechPed    TipoPedido\n",
              "10528 2018-12-30 22:37:39.490  1.0  ... 2018-12-30 23:12:11.181  Mesa/Comanda\n",
              "10529 2018-12-30 22:41:57.277  1.0  ... 2018-12-30 23:12:11.181  Mesa/Comanda\n",
              "10530 2018-12-30 22:41:59.290  1.0  ... 2018-12-30 23:12:11.181  Mesa/Comanda\n",
              "10531 2018-12-30 22:47:23.911  1.0  ... 2018-12-30 23:01:08.671  Mesa/Comanda\n",
              "10532                     NaT  NaN  ...                     NaT           NaN\n",
              "\n",
              "[5 rows x 11 columns]"
            ]
          },
          "metadata": {
            "tags": []
          },
          "execution_count": 20
        }
      ]
    },
    {
      "cell_type": "markdown",
      "metadata": {
        "id": "zmNS88fPN34G",
        "colab_type": "text"
      },
      "source": [
        "**Excluindo as informações da última linha do Dataset, pois estão com valores NaN( missings). **\n",
        "\n",
        "---\n",
        "\n",
        "\n",
        "\n",
        "---\n",
        "\n"
      ]
    },
    {
      "cell_type": "code",
      "metadata": {
        "id": "H3WMVUjzVoMp",
        "colab_type": "code",
        "colab": {}
      },
      "source": [
        "df.drop([10532], axis=0, inplace=True)"
      ],
      "execution_count": 0,
      "outputs": []
    },
    {
      "cell_type": "markdown",
      "metadata": {
        "id": "dU63LvIROES_",
        "colab_type": "text"
      },
      "source": [
        "**Vamos agora verificar os valores nulos novamente do nosso conjunto de dados.**\n",
        "\n",
        "---\n",
        "\n",
        "\n",
        "\n",
        "---\n",
        "\n"
      ]
    },
    {
      "cell_type": "code",
      "metadata": {
        "id": "mEBl3MUQWT0k",
        "colab_type": "code",
        "outputId": "d60ec8f3-1507-462d-e5f6-3f66f17c5deb",
        "colab": {
          "base_uri": "https://localhost:8080/",
          "height": 221
        }
      },
      "source": [
        "df.isnull().sum()"
      ],
      "execution_count": 24,
      "outputs": [
        {
          "output_type": "execute_result",
          "data": {
            "text/plain": [
              "Data            0\n",
              "Qtd             0\n",
              "ValorUnidade    0\n",
              "TotalUnidade    0\n",
              "Produto         0\n",
              "TipoProduto     0\n",
              "Categoria       0\n",
              "ValorProduto    0\n",
              "HoraAbertPed    0\n",
              "HoraFechPed     0\n",
              "TipoPedido      0\n",
              "dtype: int64"
            ]
          },
          "metadata": {
            "tags": []
          },
          "execution_count": 24
        }
      ]
    },
    {
      "cell_type": "markdown",
      "metadata": {
        "id": "N01Q4R7YOUPy",
        "colab_type": "text"
      },
      "source": [
        "**Criaremos algumas colunas para extrair dias,meses e horas.**\n",
        "\n",
        "---\n",
        "\n",
        "\n",
        "\n",
        "---\n",
        "\n",
        "\n",
        "\n",
        "---\n",
        "\n"
      ]
    },
    {
      "cell_type": "code",
      "metadata": {
        "id": "GLH_ToyAWotd",
        "colab_type": "code",
        "colab": {}
      },
      "source": [
        "# colocando a variavel data como date.time\n",
        "\n",
        "df[\"Data\"] = pd.to_datetime(df[\"Data\"])"
      ],
      "execution_count": 0,
      "outputs": []
    },
    {
      "cell_type": "code",
      "metadata": {
        "id": "5Gv1kuKSn0uC",
        "colab_type": "code",
        "colab": {}
      },
      "source": [
        "# Extraindo e criando as horas das colunas aberturaped e fechamentoped.\n",
        "\n",
        "df[\"HoraAbertura\"] = df[\"HoraAbertPed\"].apply(lambda x:dt.time(x.hour, x.minute, x.second))\n",
        "df[\"HoraFechamento\"] = df[\"HoraFechPed\"].apply(lambda x:dt.time(x.hour, x.minute, x.second))"
      ],
      "execution_count": 0,
      "outputs": []
    },
    {
      "cell_type": "code",
      "metadata": {
        "id": "Y2vbF2pea_SH",
        "colab_type": "code",
        "colab": {}
      },
      "source": [
        "# Extraindo e criando colunas de Dias da Semana, Mês e Hora.\n",
        "\n",
        "df[\"DiaSemana\"] = df[\"Data\"].apply(lambda x: x.dayofweek)\n",
        "df[\"Mes\"] = df[\"Data\"].apply(lambda x: x.month)\n",
        "df[\"Hora\"] = df[\"Data\"].apply(lambda x: x.hour)"
      ],
      "execution_count": 0,
      "outputs": []
    },
    {
      "cell_type": "code",
      "metadata": {
        "id": "Fp6xfw-xaIlK",
        "colab_type": "code",
        "colab": {}
      },
      "source": [
        "# Criando um dicionário com os nomes dos dias da semana\n",
        "\n",
        "dias = {0:\"Seg\",1:\"Ter\",2:\"Qua\",3:\"Qui\",4:\"Sex\",5:\"Sab\",6:\"Dom\"}\n",
        "\n",
        "#Criando um dicionário com as inicais dos meses do ano.\n",
        "meses = {1:\"Jan\",2:\"Fev\",3:\"Mar\",4:\"Abr\",5:\"Mai\",6:\"Jun\",7:\"Jul\",8:'Ago',9:\"Set\",10:\"Out\",11:\"Nov\",12:\"Dez\"}"
      ],
      "execution_count": 0,
      "outputs": []
    },
    {
      "cell_type": "code",
      "metadata": {
        "id": "4GIfDBpDaZOm",
        "colab_type": "code",
        "colab": {}
      },
      "source": [
        "# Atribuindo os nomes para a coluna DiaSemana\n",
        "\n",
        "df[\"DiaSemana\"] = df[\"DiaSemana\"].map(dias)\n",
        "\n",
        "# Atribuindo os nomes para os meses.\n",
        "\n",
        "df[\"Mes\"] = df[\"Mes\"].map(meses)"
      ],
      "execution_count": 0,
      "outputs": []
    },
    {
      "cell_type": "markdown",
      "metadata": {
        "id": "APZht9HCQpN3",
        "colab_type": "text"
      },
      "source": [
        "**Visulizando o nosso conjunto de dados com as informações novas.**\n",
        "\n",
        "---\n",
        "\n",
        "\n",
        "\n",
        "---\n",
        "\n",
        "\n",
        "\n",
        "---\n",
        "\n"
      ]
    },
    {
      "cell_type": "code",
      "metadata": {
        "id": "-ucRnd2mo7cH",
        "colab_type": "code",
        "outputId": "07b6acd1-4926-42fc-d3fd-017163737334",
        "colab": {
          "base_uri": "https://localhost:8080/",
          "height": 309
        }
      },
      "source": [
        "df.head()"
      ],
      "execution_count": 33,
      "outputs": [
        {
          "output_type": "execute_result",
          "data": {
            "text/html": [
              "<div>\n",
              "<style scoped>\n",
              "    .dataframe tbody tr th:only-of-type {\n",
              "        vertical-align: middle;\n",
              "    }\n",
              "\n",
              "    .dataframe tbody tr th {\n",
              "        vertical-align: top;\n",
              "    }\n",
              "\n",
              "    .dataframe thead th {\n",
              "        text-align: right;\n",
              "    }\n",
              "</style>\n",
              "<table border=\"1\" class=\"dataframe\">\n",
              "  <thead>\n",
              "    <tr style=\"text-align: right;\">\n",
              "      <th></th>\n",
              "      <th>Data</th>\n",
              "      <th>Qtd</th>\n",
              "      <th>ValorUnidade</th>\n",
              "      <th>TotalUnidade</th>\n",
              "      <th>Produto</th>\n",
              "      <th>TipoProduto</th>\n",
              "      <th>Categoria</th>\n",
              "      <th>ValorProduto</th>\n",
              "      <th>HoraAbertPed</th>\n",
              "      <th>HoraFechPed</th>\n",
              "      <th>TipoPedido</th>\n",
              "      <th>HoraAbertura</th>\n",
              "      <th>HoraFechamento</th>\n",
              "      <th>DiaSemana</th>\n",
              "      <th>Mes</th>\n",
              "      <th>Hora</th>\n",
              "    </tr>\n",
              "  </thead>\n",
              "  <tbody>\n",
              "    <tr>\n",
              "      <th>0</th>\n",
              "      <td>2018-03-05 19:03:29.296</td>\n",
              "      <td>1.0</td>\n",
              "      <td>17.0</td>\n",
              "      <td>17.0</td>\n",
              "      <td>207 +BACON</td>\n",
              "      <td>Produto</td>\n",
              "      <td>Hambúrgueres</td>\n",
              "      <td>17.0</td>\n",
              "      <td>2018-03-05 19:02:22.138</td>\n",
              "      <td>2018-03-05 19:58:54.006</td>\n",
              "      <td>Delivery</td>\n",
              "      <td>19:02:22</td>\n",
              "      <td>19:58:54</td>\n",
              "      <td>Seg</td>\n",
              "      <td>Mar</td>\n",
              "      <td>19</td>\n",
              "    </tr>\n",
              "    <tr>\n",
              "      <th>1</th>\n",
              "      <td>2018-03-05 19:06:18.572</td>\n",
              "      <td>1.0</td>\n",
              "      <td>22.0</td>\n",
              "      <td>22.0</td>\n",
              "      <td>207 PRIME</td>\n",
              "      <td>Produto</td>\n",
              "      <td>Hambúrgueres</td>\n",
              "      <td>22.0</td>\n",
              "      <td>2018-03-05 19:06:00.273</td>\n",
              "      <td>2018-03-05 19:59:16.501</td>\n",
              "      <td>Delivery</td>\n",
              "      <td>19:06:00</td>\n",
              "      <td>19:59:16</td>\n",
              "      <td>Seg</td>\n",
              "      <td>Mar</td>\n",
              "      <td>19</td>\n",
              "    </tr>\n",
              "    <tr>\n",
              "      <th>2</th>\n",
              "      <td>2018-03-05 19:06:24.578</td>\n",
              "      <td>1.0</td>\n",
              "      <td>3.0</td>\n",
              "      <td>3.0</td>\n",
              "      <td>COCA COLA LATA</td>\n",
              "      <td>Produto</td>\n",
              "      <td>Refrigerantes</td>\n",
              "      <td>4.0</td>\n",
              "      <td>2018-03-05 19:06:00.273</td>\n",
              "      <td>2018-03-05 19:59:16.501</td>\n",
              "      <td>Delivery</td>\n",
              "      <td>19:06:00</td>\n",
              "      <td>19:59:16</td>\n",
              "      <td>Seg</td>\n",
              "      <td>Mar</td>\n",
              "      <td>19</td>\n",
              "    </tr>\n",
              "    <tr>\n",
              "      <th>3</th>\n",
              "      <td>2018-03-05 19:10:04.523</td>\n",
              "      <td>1.0</td>\n",
              "      <td>15.0</td>\n",
              "      <td>15.0</td>\n",
              "      <td>207 CLÁSSICO</td>\n",
              "      <td>Produto</td>\n",
              "      <td>Hambúrgueres</td>\n",
              "      <td>15.0</td>\n",
              "      <td>2018-03-05 19:09:11.997</td>\n",
              "      <td>2018-03-05 19:58:35.722</td>\n",
              "      <td>Delivery</td>\n",
              "      <td>19:09:11</td>\n",
              "      <td>19:58:35</td>\n",
              "      <td>Seg</td>\n",
              "      <td>Mar</td>\n",
              "      <td>19</td>\n",
              "    </tr>\n",
              "    <tr>\n",
              "      <th>4</th>\n",
              "      <td>2018-03-05 19:10:04.523</td>\n",
              "      <td>1.0</td>\n",
              "      <td>1.5</td>\n",
              "      <td>1.5</td>\n",
              "      <td>QUEIJO ADICIONAL</td>\n",
              "      <td>Complemento</td>\n",
              "      <td>Complemento</td>\n",
              "      <td>1.5</td>\n",
              "      <td>2018-03-05 19:09:11.997</td>\n",
              "      <td>2018-03-05 19:58:35.722</td>\n",
              "      <td>Delivery</td>\n",
              "      <td>19:09:11</td>\n",
              "      <td>19:58:35</td>\n",
              "      <td>Seg</td>\n",
              "      <td>Mar</td>\n",
              "      <td>19</td>\n",
              "    </tr>\n",
              "  </tbody>\n",
              "</table>\n",
              "</div>"
            ],
            "text/plain": [
              "                     Data  Qtd  ValorUnidade  ...  DiaSemana  Mes Hora\n",
              "0 2018-03-05 19:03:29.296  1.0          17.0  ...        Seg  Mar   19\n",
              "1 2018-03-05 19:06:18.572  1.0          22.0  ...        Seg  Mar   19\n",
              "2 2018-03-05 19:06:24.578  1.0           3.0  ...        Seg  Mar   19\n",
              "3 2018-03-05 19:10:04.523  1.0          15.0  ...        Seg  Mar   19\n",
              "4 2018-03-05 19:10:04.523  1.0           1.5  ...        Seg  Mar   19\n",
              "\n",
              "[5 rows x 16 columns]"
            ]
          },
          "metadata": {
            "tags": []
          },
          "execution_count": 33
        }
      ]
    },
    {
      "cell_type": "markdown",
      "metadata": {
        "id": "qNhkWLxKREYm",
        "colab_type": "text"
      },
      "source": [
        "**Visualizando um pairplot para analisar as variaveis.**\n",
        "\n",
        "---\n",
        "\n",
        "\n",
        "\n",
        "---\n",
        "\n",
        "\n",
        "\n",
        "---\n",
        "\n"
      ]
    },
    {
      "cell_type": "code",
      "metadata": {
        "id": "djX1BpiL_NCS",
        "colab_type": "code",
        "outputId": "1c551ac0-a175-4c1d-f1c6-645260b4f129",
        "colab": {
          "base_uri": "https://localhost:8080/",
          "height": 944
        }
      },
      "source": [
        "sns.pairplot(df)"
      ],
      "execution_count": 38,
      "outputs": [
        {
          "output_type": "execute_result",
          "data": {
            "text/plain": [
              "<seaborn.axisgrid.PairGrid at 0x7f268649dfd0>"
            ]
          },
          "metadata": {
            "tags": []
          },
          "execution_count": 38
        },
        {
          "output_type": "display_data",
          "data": {
            "image/png": "[encoded data removed]",
            "text/plain": [
              "<Figure size 900x900 with 30 Axes>"
            ]
          },
          "metadata": {
            "tags": []
          }
        }
      ]
    },
    {
      "cell_type": "markdown",
      "metadata": {
        "id": "OaApaHNmRS4S",
        "colab_type": "text"
      },
      "source": [
        "## **Criando alguns gráficos para analises.**"
      ]
    },
    {
      "cell_type": "code",
      "metadata": {
        "id": "dzqxAsI_hm2M",
        "colab_type": "code",
        "outputId": "b67c6e8a-7147-4a3e-ceb9-52b46c604045",
        "colab": {
          "base_uri": "https://localhost:8080/",
          "height": 421
        }
      },
      "source": [
        "# Criando graficos para extrair informações\n",
        "\n",
        "plt.figure(figsize=(12,6))\n",
        "sns.countplot(x = \"Hora\", data=df, palette=\"Set3\")\n",
        "plt.title(\"Pedidos por Horario\")"
      ],
      "execution_count": 41,
      "outputs": [
        {
          "output_type": "execute_result",
          "data": {
            "text/plain": [
              "Text(0.5, 1.0, 'Pedidos por Horario')"
            ]
          },
          "metadata": {
            "tags": []
          },
          "execution_count": 41
        },
        {
          "output_type": "display_data",
          "data": {
            "image/png": "[encoded data removed]",
            "text/plain": [
              "<Figure size 864x432 with 1 Axes>"
            ]
          },
          "metadata": {
            "tags": []
          }
        }
      ]
    },
    {
      "cell_type": "markdown",
      "metadata": {
        "id": "6LW0uMOjsZCv",
        "colab_type": "text"
      },
      "source": [
        "**Notamos acima que a maior concentração de pedidos estão nos horários entre as 18:30 até as 21:30.**"
      ]
    },
    {
      "cell_type": "code",
      "metadata": {
        "id": "arZ1inABhyCD",
        "colab_type": "code",
        "outputId": "c51a28ab-2027-4049-f34c-8a5679f8458e",
        "colab": {
          "base_uri": "https://localhost:8080/",
          "height": 421
        }
      },
      "source": [
        "plt.figure(figsize=(12,6))\n",
        "sns.countplot(x=\"Mes\", data=df, palette=\"Set3\")\n",
        "plt.title(\"Pedidos por Mês\")"
      ],
      "execution_count": 43,
      "outputs": [
        {
          "output_type": "execute_result",
          "data": {
            "text/plain": [
              "Text(0.5, 1.0, 'Pedidos por Mês')"
            ]
          },
          "metadata": {
            "tags": []
          },
          "execution_count": 43
        },
        {
          "output_type": "display_data",
          "data": {
            "image/png": "[encoded data removed]",
            "text/plain": [
              "<Figure size 864x432 with 1 Axes>"
            ]
          },
          "metadata": {
            "tags": []
          }
        }
      ]
    },
    {
      "cell_type": "markdown",
      "metadata": {
        "id": "_bp7e87Ctd8k",
        "colab_type": "text"
      },
      "source": [
        "**O gráfico pmostra que a maior concentração de pedidos está no mês de Dezembro. Em Abril houve um volume diferente em relação aos demais e Novembro disparou.**"
      ]
    },
    {
      "cell_type": "code",
      "metadata": {
        "id": "k1eJZHSfnLCr",
        "colab_type": "code",
        "outputId": "81cec348-7c85-45c6-92c5-08780246fdb3",
        "colab": {
          "base_uri": "https://localhost:8080/",
          "height": 421
        }
      },
      "source": [
        "plt.figure(figsize=(12,6))\n",
        "sns.countplot(x= \"DiaSemana\", data=df, palette=\"Set3\")\n",
        "plt.title(\"Por dia de Semana\")"
      ],
      "execution_count": 44,
      "outputs": [
        {
          "output_type": "execute_result",
          "data": {
            "text/plain": [
              "Text(0.5, 1.0, 'Por dia de Semana')"
            ]
          },
          "metadata": {
            "tags": []
          },
          "execution_count": 44
        },
        {
          "output_type": "display_data",
          "data": {
            "image/png": "[encoded data removed]",
            "text/plain": [
              "<Figure size 864x432 with 1 Axes>"
            ]
          },
          "metadata": {
            "tags": []
          }
        }
      ]
    },
    {
      "cell_type": "markdown",
      "metadata": {
        "id": "xmec7DDKDzr9",
        "colab_type": "text"
      },
      "source": [
        "**Domingo é lider de pedidos.**\n",
        "\n",
        "---\n",
        "\n"
      ]
    },
    {
      "cell_type": "code",
      "metadata": {
        "id": "R0EOnE9ku9n3",
        "colab_type": "code",
        "outputId": "759326ea-5524-45fe-8cdc-8c079d093658",
        "colab": {
          "base_uri": "https://localhost:8080/",
          "height": 297
        }
      },
      "source": [
        "sns.catplot(x=\"Qtd\", col=\"TipoPedido\",\n",
        "                data=df, kind=\"count\",\n",
        "                height=4, aspect=.7);"
      ],
      "execution_count": 46,
      "outputs": [
        {
          "output_type": "display_data",
          "data": {
            "image/png": "[encoded data removed]",
            "text/plain": [
              "<Figure size 806.4x288 with 4 Axes>"
            ]
          },
          "metadata": {
            "tags": []
          }
        }
      ]
    },
    {
      "cell_type": "markdown",
      "metadata": {
        "id": "ibyeGE10D-02",
        "colab_type": "text"
      },
      "source": [
        "**A maioria dos pedidos, ou seja, 81.77% são feitos por telefone/aplicativo(Delivery), sem a necessidade de loja física.**\n",
        "\n",
        "---\n",
        "\n"
      ]
    },
    {
      "cell_type": "code",
      "metadata": {
        "id": "i8hVaDOuEXZh",
        "colab_type": "code",
        "outputId": "827e7ee3-2f77-4fdb-e2a0-f59bebf3bab5",
        "colab": {
          "base_uri": "https://localhost:8080/",
          "height": 102
        }
      },
      "source": [
        "df[\"TipoPedido\"].value_counts() / 100"
      ],
      "execution_count": 47,
      "outputs": [
        {
          "output_type": "execute_result",
          "data": {
            "text/plain": [
              "Delivery        81.77\n",
              "Mesa/Comanda    22.67\n",
              "Balcão           0.80\n",
              "Caixa            0.08\n",
              "Name: TipoPedido, dtype: float64"
            ]
          },
          "metadata": {
            "tags": []
          },
          "execution_count": 47
        }
      ]
    },
    {
      "cell_type": "code",
      "metadata": {
        "id": "xZRLC3Eev-qt",
        "colab_type": "code",
        "outputId": "ee543920-46c2-4e03-b791-892ece6cd31a",
        "colab": {
          "base_uri": "https://localhost:8080/",
          "height": 422
        }
      },
      "source": [
        "plt.figure(figsize=(12,6))\n",
        "sns.countplot(x=\"Categoria\", data=df, palette=\"Set3\")\n",
        "plt.title(\"Por Categoria\")"
      ],
      "execution_count": 48,
      "outputs": [
        {
          "output_type": "execute_result",
          "data": {
            "text/plain": [
              "Text(0.5, 1.0, 'Por Categoria')"
            ]
          },
          "metadata": {
            "tags": []
          },
          "execution_count": 48
        },
        {
          "output_type": "display_data",
          "data": {
            "image/png": "[encoded data removed]",
            "text/plain": [
              "<Figure size 864x432 with 1 Axes>"
            ]
          },
          "metadata": {
            "tags": []
          }
        }
      ]
    },
    {
      "cell_type": "markdown",
      "metadata": {
        "id": "CSnfTlX8DYFQ",
        "colab_type": "text"
      },
      "source": [
        "**Podemos notar que não existe uma relação de pedidos com refrigerantes significativa. As pessoas compram mais hamburgueres do que um pedido \"casado\", ou seja, hamburguer + refrigerante.**\n",
        "\n",
        "---\n",
        "\n",
        "\n",
        "\n",
        "---\n",
        "\n"
      ]
    },
    {
      "cell_type": "code",
      "metadata": {
        "id": "Mu8LUUJV9yNX",
        "colab_type": "code",
        "outputId": "8596cbe6-b8be-41e4-f868-8fff9afd8e8f",
        "colab": {
          "base_uri": "https://localhost:8080/",
          "height": 405
        }
      },
      "source": [
        "plt.figure(figsize=(12,6))\n",
        "df[df['Produto']=='207 +BACON'].groupby('DiaSemana').count()['Categoria'].plot()\n",
        "df[df['Produto']=='207 PRIME'].groupby('DiaSemana').count()['Categoria'].plot()\n",
        "df[df['Produto']=='207 MAXX'].groupby('DiaSemana').count()['Categoria'].plot()\n",
        "df[df['Produto']==\"207 GAROTO\"].groupby(\"DiaSemana\").count()[\"Categoria\"].plot()\n",
        "df[df['Produto']==\"207 CLÁSSICO\"].groupby(\"DiaSemana\").count()[\"Categoria\"].plot()\n",
        "df[df['Produto']==\"207 CHICKEN\"].groupby(\"DiaSemana\").count()[\"Categoria\"].plot()\n",
        "df[df['Produto']==\"207 SUPREMO\"].groupby(\"DiaSemana\").count()[\"Categoria\"].plot()\n",
        "plt.legend([\"Bacon\", \"Prime\", \"Maxx\",\"Garoto\",\"Classico\",\"Chicken\",\"Supremo\"], loc = 0, borderaxespad=1)"
      ],
      "execution_count": 50,
      "outputs": [
        {
          "output_type": "execute_result",
          "data": {
            "text/plain": [
              "<matplotlib.legend.Legend at 0x7f2681440b70>"
            ]
          },
          "metadata": {
            "tags": []
          },
          "execution_count": 50
        },
        {
          "output_type": "display_data",
          "data": {
            "image/png": "[encoded data removed]",
            "text/plain": [
              "<Figure size 864x432 with 1 Axes>"
            ]
          },
          "metadata": {
            "tags": []
          }
        }
      ]
    },
    {
      "cell_type": "markdown",
      "metadata": {
        "id": "CafVTGVwDAOH",
        "colab_type": "text"
      },
      "source": [
        "**Ranking dos Hamburgueres.** \n",
        "\n",
        "---\n",
        "\n",
        "\n",
        "\n",
        "---\n",
        "\n"
      ]
    },
    {
      "cell_type": "code",
      "metadata": {
        "id": "x4H7vC6lFcHl",
        "colab_type": "code",
        "outputId": "d458730a-cf38-495b-fbfc-83e6a5865d11",
        "colab": {
          "base_uri": "https://localhost:8080/",
          "height": 405
        }
      },
      "source": [
        "plt.figure(figsize=(12,6))\n",
        "df[df['Produto']=='COCA COLA LATA'].groupby('DiaSemana').count()['Categoria'].plot()\n",
        "df[df['Produto']==\"GUARANÁ ANTÁRTICA LATA\"].groupby(\"DiaSemana\").count()[\"Categoria\"].plot()\n",
        "df[df['Produto']==\"COCA COLA 600ML\"].groupby(\"DiaSemana\").count()[\"Categoria\"].plot()\n",
        "plt.legend([\"Coca Cola Lata\", \"Guaraná Lata\",\"Coca 600ml\"], loc = 0, borderaxespad=1)"
      ],
      "execution_count": 51,
      "outputs": [
        {
          "output_type": "execute_result",
          "data": {
            "text/plain": [
              "<matplotlib.legend.Legend at 0x7f26815a0a90>"
            ]
          },
          "metadata": {
            "tags": []
          },
          "execution_count": 51
        },
        {
          "output_type": "display_data",
          "data": {
            "image/png": "[encoded data removed]",
            "text/plain": [
              "<Figure size 864x432 with 1 Axes>"
            ]
          },
          "metadata": {
            "tags": []
          }
        }
      ]
    },
    {
      "cell_type": "markdown",
      "metadata": {
        "id": "gkGYpDl1G3Wn",
        "colab_type": "text"
      },
      "source": [
        "**Ranking dos refrigerantes.**\n",
        "\n",
        "---\n",
        "\n"
      ]
    },
    {
      "cell_type": "code",
      "metadata": {
        "id": "CoXUIzsQG_p-",
        "colab_type": "code",
        "outputId": "92203ad2-67c9-4538-ece9-1230452e1e3f",
        "colab": {
          "base_uri": "https://localhost:8080/",
          "height": 405
        }
      },
      "source": [
        "plt.figure(figsize=(12,6))\n",
        "\n",
        "plt.legend([\"Garoto\",\"Clássico\",\"Chicken\",\"Supremo\"], loc=0, borderaxespad=1)"
      ],
      "execution_count": 0,
      "outputs": [
        {
          "output_type": "execute_result",
          "data": {
            "text/plain": [
              "<matplotlib.legend.Legend at 0x7f21ee61df28>"
            ]
          },
          "metadata": {
            "tags": []
          },
          "execution_count": 127
        },
        {
          "output_type": "display_data",
          "data": {
            "image/png": "[encoded data removed]",
            "text/plain": [
              "<Figure size 864x432 with 1 Axes>"
            ]
          },
          "metadata": {
            "tags": []
          }
        }
      ]
    },
    {
      "cell_type": "code",
      "metadata": {
        "id": "wMaJ8uyauYwi",
        "colab_type": "code",
        "colab": {}
      },
      "source": [
        ""
      ],
      "execution_count": 0,
      "outputs": []
    }
  ]
}